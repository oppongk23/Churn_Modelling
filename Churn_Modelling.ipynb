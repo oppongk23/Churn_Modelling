{
 "cells": [
  {
   "cell_type": "code",
   "execution_count": 1,
   "id": "fac75584-5755-4a8b-8002-d667e8020058",
   "metadata": {},
   "outputs": [],
   "source": [
    "%matplotlib inline"
   ]
  },
  {
   "cell_type": "code",
   "execution_count": 2,
   "id": "80153f7e-10bf-400b-8004-d56e5c895558",
   "metadata": {},
   "outputs": [],
   "source": [
    "#Importing the relevant dependencies\n",
    "import numpy as np\n",
    "import matplotlib.pyplot as plt\n",
    "import seaborn as sns\n",
    "import pandas as pd\n",
    "import plotly.express as px"
   ]
  },
  {
   "cell_type": "code",
   "execution_count": 3,
   "id": "f0921155-abe3-4c71-8a3c-89ff44fb0bce",
   "metadata": {},
   "outputs": [],
   "source": [
    "#Importing the Models with which the data is going to be fitted\n",
    "from sklearn.model_selection import train_test_split, GridSearchCV\n",
    "from sklearn import metrics\n",
    "from sklearn.linear_model import LogisticRegression\n",
    "from sklearn.ensemble import RandomForestClassifier\n",
    "from sklearn.preprocessing import OneHotEncoder\n",
    "\n",
    "\n",
    "#Importing the Metrics which we will be using\n",
    "from sklearn.metrics import accuracy_score,classification_report, confusion_matrix, precision_score\n"
   ]
  },
  {
   "cell_type": "code",
   "execution_count": 4,
   "id": "c6c90efb-e849-4b81-b3f4-41e02627350c",
   "metadata": {},
   "outputs": [
    {
     "data": {
      "text/html": [
       "<div>\n",
       "<style scoped>\n",
       "    .dataframe tbody tr th:only-of-type {\n",
       "        vertical-align: middle;\n",
       "    }\n",
       "\n",
       "    .dataframe tbody tr th {\n",
       "        vertical-align: top;\n",
       "    }\n",
       "\n",
       "    .dataframe thead th {\n",
       "        text-align: right;\n",
       "    }\n",
       "</style>\n",
       "<table border=\"1\" class=\"dataframe\">\n",
       "  <thead>\n",
       "    <tr style=\"text-align: right;\">\n",
       "      <th></th>\n",
       "      <th>RowNumber</th>\n",
       "      <th>CustomerId</th>\n",
       "      <th>Surname</th>\n",
       "      <th>CreditScore</th>\n",
       "      <th>Geography</th>\n",
       "      <th>Gender</th>\n",
       "      <th>Age</th>\n",
       "      <th>Tenure</th>\n",
       "      <th>Balance</th>\n",
       "      <th>NumOfProducts</th>\n",
       "      <th>HasCrCard</th>\n",
       "      <th>IsActiveMember</th>\n",
       "      <th>EstimatedSalary</th>\n",
       "      <th>Exited</th>\n",
       "    </tr>\n",
       "  </thead>\n",
       "  <tbody>\n",
       "    <tr>\n",
       "      <th>0</th>\n",
       "      <td>1</td>\n",
       "      <td>15634602</td>\n",
       "      <td>Hargrave</td>\n",
       "      <td>619</td>\n",
       "      <td>France</td>\n",
       "      <td>Female</td>\n",
       "      <td>42</td>\n",
       "      <td>2</td>\n",
       "      <td>0.00</td>\n",
       "      <td>1</td>\n",
       "      <td>1</td>\n",
       "      <td>1</td>\n",
       "      <td>101348.88</td>\n",
       "      <td>1</td>\n",
       "    </tr>\n",
       "    <tr>\n",
       "      <th>1</th>\n",
       "      <td>2</td>\n",
       "      <td>15647311</td>\n",
       "      <td>Hill</td>\n",
       "      <td>608</td>\n",
       "      <td>Spain</td>\n",
       "      <td>Female</td>\n",
       "      <td>41</td>\n",
       "      <td>1</td>\n",
       "      <td>83807.86</td>\n",
       "      <td>1</td>\n",
       "      <td>0</td>\n",
       "      <td>1</td>\n",
       "      <td>112542.58</td>\n",
       "      <td>0</td>\n",
       "    </tr>\n",
       "    <tr>\n",
       "      <th>2</th>\n",
       "      <td>3</td>\n",
       "      <td>15619304</td>\n",
       "      <td>Onio</td>\n",
       "      <td>502</td>\n",
       "      <td>France</td>\n",
       "      <td>Female</td>\n",
       "      <td>42</td>\n",
       "      <td>8</td>\n",
       "      <td>159660.80</td>\n",
       "      <td>3</td>\n",
       "      <td>1</td>\n",
       "      <td>0</td>\n",
       "      <td>113931.57</td>\n",
       "      <td>1</td>\n",
       "    </tr>\n",
       "    <tr>\n",
       "      <th>3</th>\n",
       "      <td>4</td>\n",
       "      <td>15701354</td>\n",
       "      <td>Boni</td>\n",
       "      <td>699</td>\n",
       "      <td>France</td>\n",
       "      <td>Female</td>\n",
       "      <td>39</td>\n",
       "      <td>1</td>\n",
       "      <td>0.00</td>\n",
       "      <td>2</td>\n",
       "      <td>0</td>\n",
       "      <td>0</td>\n",
       "      <td>93826.63</td>\n",
       "      <td>0</td>\n",
       "    </tr>\n",
       "    <tr>\n",
       "      <th>4</th>\n",
       "      <td>5</td>\n",
       "      <td>15737888</td>\n",
       "      <td>Mitchell</td>\n",
       "      <td>850</td>\n",
       "      <td>Spain</td>\n",
       "      <td>Female</td>\n",
       "      <td>43</td>\n",
       "      <td>2</td>\n",
       "      <td>125510.82</td>\n",
       "      <td>1</td>\n",
       "      <td>1</td>\n",
       "      <td>1</td>\n",
       "      <td>79084.10</td>\n",
       "      <td>0</td>\n",
       "    </tr>\n",
       "  </tbody>\n",
       "</table>\n",
       "</div>"
      ],
      "text/plain": [
       "   RowNumber  CustomerId   Surname  CreditScore Geography  Gender  Age  \\\n",
       "0          1    15634602  Hargrave          619    France  Female   42   \n",
       "1          2    15647311      Hill          608     Spain  Female   41   \n",
       "2          3    15619304      Onio          502    France  Female   42   \n",
       "3          4    15701354      Boni          699    France  Female   39   \n",
       "4          5    15737888  Mitchell          850     Spain  Female   43   \n",
       "\n",
       "   Tenure    Balance  NumOfProducts  HasCrCard  IsActiveMember  \\\n",
       "0       2       0.00              1          1               1   \n",
       "1       1   83807.86              1          0               1   \n",
       "2       8  159660.80              3          1               0   \n",
       "3       1       0.00              2          0               0   \n",
       "4       2  125510.82              1          1               1   \n",
       "\n",
       "   EstimatedSalary  Exited  \n",
       "0        101348.88       1  \n",
       "1        112542.58       0  \n",
       "2        113931.57       1  \n",
       "3         93826.63       0  \n",
       "4         79084.10       0  "
      ]
     },
     "execution_count": 4,
     "metadata": {},
     "output_type": "execute_result"
    }
   ],
   "source": [
    "#Read the dataset into a variable and create the dataframe\n",
    "cm_df = pd.read_csv(\"Churn_Modelling.csv\")\n",
    "cm_df.head()"
   ]
  },
  {
   "cell_type": "code",
   "execution_count": 5,
   "id": "5ec81f8a-509a-4047-8363-f1186c8b50b2",
   "metadata": {},
   "outputs": [
    {
     "name": "stdout",
     "output_type": "stream",
     "text": [
      "<class 'pandas.core.frame.DataFrame'>\n",
      "RangeIndex: 10000 entries, 0 to 9999\n",
      "Data columns (total 14 columns):\n",
      " #   Column           Non-Null Count  Dtype  \n",
      "---  ------           --------------  -----  \n",
      " 0   RowNumber        10000 non-null  int64  \n",
      " 1   CustomerId       10000 non-null  int64  \n",
      " 2   Surname          10000 non-null  object \n",
      " 3   CreditScore      10000 non-null  int64  \n",
      " 4   Geography        10000 non-null  object \n",
      " 5   Gender           10000 non-null  object \n",
      " 6   Age              10000 non-null  int64  \n",
      " 7   Tenure           10000 non-null  int64  \n",
      " 8   Balance          10000 non-null  float64\n",
      " 9   NumOfProducts    10000 non-null  int64  \n",
      " 10  HasCrCard        10000 non-null  int64  \n",
      " 11  IsActiveMember   10000 non-null  int64  \n",
      " 12  EstimatedSalary  10000 non-null  float64\n",
      " 13  Exited           10000 non-null  int64  \n",
      "dtypes: float64(2), int64(9), object(3)\n",
      "memory usage: 1.1+ MB\n"
     ]
    }
   ],
   "source": [
    "cm_df.info()"
   ]
  },
  {
   "cell_type": "markdown",
   "id": "a573af2d-021e-41d2-87dc-3d47d3cc8989",
   "metadata": {},
   "source": [
    "# Visualizing aspects of the data to drive the Data Engineering Process"
   ]
  },
  {
   "cell_type": "code",
   "execution_count": 6,
   "id": "ba6bcd88-311a-449e-a605-2185a622f35d",
   "metadata": {},
   "outputs": [
    {
     "data": {
      "image/png": "[encoded data removed]",
      "text/plain": [
       "<Figure size 1440x1080 with 4 Axes>"
      ]
     },
     "metadata": {
      "needs_background": "light"
     },
     "output_type": "display_data"
    }
   ],
   "source": [
    "cm_df[[\"CreditScore\", \"Balance\", \"Exited\"]].hist(bins=50, figsize=(20,15)) \n",
    "plt.show()"
   ]
  },
  {
   "cell_type": "code",
   "execution_count": 7,
   "id": "dd435bae-18af-4bd0-985c-2e3374460af3",
   "metadata": {},
   "outputs": [
    {
     "data": {
      "image/png": "[encoded data removed]",
      "text/plain": [
       "<Figure size 432x288 with 1 Axes>"
      ]
     },
     "metadata": {
      "needs_background": "light"
     },
     "output_type": "display_data"
    }
   ],
   "source": [
    "#Plotting the number of people who stayed and who left the company\n",
    "ax = sns.countplot(x=\"Exited\", data=cm_df)\n",
    "for p, label in zip(ax.patches, cm_df[\"Exited\"].value_counts()):\n",
    "    ax.annotate(label, (p.get_x()+0.375, p.get_height()+0.95))\n",
    "#plt.show()"
   ]
  },
  {
   "cell_type": "markdown",
   "id": "783831be-d205-471e-8587-53d195c84fa2",
   "metadata": {},
   "source": [
    "# Fitting the data to two models to get baseline metrics"
   ]
  },
  {
   "cell_type": "code",
   "execution_count": 8,
   "id": "9f47d329-b9eb-4373-9c53-e64ec78a6c86",
   "metadata": {},
   "outputs": [],
   "source": [
    "def oneHot(X):\n",
    "    #Applying OneHotEncoding\n",
    "    OHEncoder = OneHotEncoder(handle_unknown='ignore', sparse=False)\n",
    "    #getting a list of categorical columns\n",
    "    c = (X.dtypes == \"object\")\n",
    "    object_cols = list(c[c].index)\n",
    "\n",
    "    print(\"Categorical Columns: \")\n",
    "    print(object_cols)\n",
    "\n",
    "    encoded_columns = pd.DataFrame(OHEncoder.fit_transform(X[object_cols]))\n",
    "    encoded_columns.columns = OHEncoder.get_feature_names(object_cols)\n",
    "\n",
    "    #putting back the indices\n",
    "    encoded_columns.index = X.index\n",
    "\n",
    "    #dropping the categorical columns\n",
    "    X_train_naive = X.drop(object_cols, axis=1)\n",
    "    X_encoded = pd.concat([X_train_naive, encoded_columns], axis=1)\n",
    "    \n",
    "    return X_encoded"
   ]
  },
  {
   "cell_type": "code",
   "execution_count": 9,
   "id": "98179b89-5861-4615-adc5-c3bcea501e79",
   "metadata": {},
   "outputs": [
    {
     "name": "stdout",
     "output_type": "stream",
     "text": [
      "Categorical Columns: \n",
      "['Geography', 'Gender']\n"
     ]
    },
    {
     "data": {
      "text/html": [
       "<div>\n",
       "<style scoped>\n",
       "    .dataframe tbody tr th:only-of-type {\n",
       "        vertical-align: middle;\n",
       "    }\n",
       "\n",
       "    .dataframe tbody tr th {\n",
       "        vertical-align: top;\n",
       "    }\n",
       "\n",
       "    .dataframe thead th {\n",
       "        text-align: right;\n",
       "    }\n",
       "</style>\n",
       "<table border=\"1\" class=\"dataframe\">\n",
       "  <thead>\n",
       "    <tr style=\"text-align: right;\">\n",
       "      <th></th>\n",
       "      <th>CreditScore</th>\n",
       "      <th>Age</th>\n",
       "      <th>Tenure</th>\n",
       "      <th>Balance</th>\n",
       "      <th>NumOfProducts</th>\n",
       "      <th>HasCrCard</th>\n",
       "      <th>IsActiveMember</th>\n",
       "      <th>EstimatedSalary</th>\n",
       "      <th>Geography_France</th>\n",
       "      <th>Geography_Germany</th>\n",
       "      <th>Geography_Spain</th>\n",
       "      <th>Gender_Female</th>\n",
       "      <th>Gender_Male</th>\n",
       "    </tr>\n",
       "  </thead>\n",
       "  <tbody>\n",
       "    <tr>\n",
       "      <th>0</th>\n",
       "      <td>619</td>\n",
       "      <td>42</td>\n",
       "      <td>2</td>\n",
       "      <td>0.00</td>\n",
       "      <td>1</td>\n",
       "      <td>1</td>\n",
       "      <td>1</td>\n",
       "      <td>101348.88</td>\n",
       "      <td>1.0</td>\n",
       "      <td>0.0</td>\n",
       "      <td>0.0</td>\n",
       "      <td>1.0</td>\n",
       "      <td>0.0</td>\n",
       "    </tr>\n",
       "    <tr>\n",
       "      <th>1</th>\n",
       "      <td>608</td>\n",
       "      <td>41</td>\n",
       "      <td>1</td>\n",
       "      <td>83807.86</td>\n",
       "      <td>1</td>\n",
       "      <td>0</td>\n",
       "      <td>1</td>\n",
       "      <td>112542.58</td>\n",
       "      <td>0.0</td>\n",
       "      <td>0.0</td>\n",
       "      <td>1.0</td>\n",
       "      <td>1.0</td>\n",
       "      <td>0.0</td>\n",
       "    </tr>\n",
       "    <tr>\n",
       "      <th>2</th>\n",
       "      <td>502</td>\n",
       "      <td>42</td>\n",
       "      <td>8</td>\n",
       "      <td>159660.80</td>\n",
       "      <td>3</td>\n",
       "      <td>1</td>\n",
       "      <td>0</td>\n",
       "      <td>113931.57</td>\n",
       "      <td>1.0</td>\n",
       "      <td>0.0</td>\n",
       "      <td>0.0</td>\n",
       "      <td>1.0</td>\n",
       "      <td>0.0</td>\n",
       "    </tr>\n",
       "    <tr>\n",
       "      <th>3</th>\n",
       "      <td>699</td>\n",
       "      <td>39</td>\n",
       "      <td>1</td>\n",
       "      <td>0.00</td>\n",
       "      <td>2</td>\n",
       "      <td>0</td>\n",
       "      <td>0</td>\n",
       "      <td>93826.63</td>\n",
       "      <td>1.0</td>\n",
       "      <td>0.0</td>\n",
       "      <td>0.0</td>\n",
       "      <td>1.0</td>\n",
       "      <td>0.0</td>\n",
       "    </tr>\n",
       "    <tr>\n",
       "      <th>4</th>\n",
       "      <td>850</td>\n",
       "      <td>43</td>\n",
       "      <td>2</td>\n",
       "      <td>125510.82</td>\n",
       "      <td>1</td>\n",
       "      <td>1</td>\n",
       "      <td>1</td>\n",
       "      <td>79084.10</td>\n",
       "      <td>0.0</td>\n",
       "      <td>0.0</td>\n",
       "      <td>1.0</td>\n",
       "      <td>1.0</td>\n",
       "      <td>0.0</td>\n",
       "    </tr>\n",
       "  </tbody>\n",
       "</table>\n",
       "</div>"
      ],
      "text/plain": [
       "   CreditScore  Age  Tenure    Balance  NumOfProducts  HasCrCard  \\\n",
       "0          619   42       2       0.00              1          1   \n",
       "1          608   41       1   83807.86              1          0   \n",
       "2          502   42       8  159660.80              3          1   \n",
       "3          699   39       1       0.00              2          0   \n",
       "4          850   43       2  125510.82              1          1   \n",
       "\n",
       "   IsActiveMember  EstimatedSalary  Geography_France  Geography_Germany  \\\n",
       "0               1        101348.88               1.0                0.0   \n",
       "1               1        112542.58               0.0                0.0   \n",
       "2               0        113931.57               1.0                0.0   \n",
       "3               0         93826.63               1.0                0.0   \n",
       "4               1         79084.10               0.0                0.0   \n",
       "\n",
       "   Geography_Spain  Gender_Female  Gender_Male  \n",
       "0              0.0            1.0          0.0  \n",
       "1              1.0            1.0          0.0  \n",
       "2              0.0            1.0          0.0  \n",
       "3              0.0            1.0          0.0  \n",
       "4              1.0            1.0          0.0  "
      ]
     },
     "execution_count": 9,
     "metadata": {},
     "output_type": "execute_result"
    }
   ],
   "source": [
    "# Create our  training and testing datasets.\n",
    "X = cm_df.drop(columns = [\"RowNumber\", \"CustomerId\", \"Surname\", \"Exited\"])\n",
    "y = cm_df[\"Exited\"]\n",
    "\n",
    "X = oneHot(X)\n",
    "X.head()"
   ]
  },
  {
   "cell_type": "code",
   "execution_count": 10,
   "id": "1d5c8bf3-d429-41c3-8806-a627cba0bda7",
   "metadata": {},
   "outputs": [
    {
     "name": "stdout",
     "output_type": "stream",
     "text": [
      "The length of the training set is: 8000 \n",
      "The length of the test set is: 2000 \n"
     ]
    }
   ],
   "source": [
    "#Separating out training and testing data\n",
    "X_train, X_test, y_train, y_test = train_test_split(X, y, test_size=0.20, random_state=42)\n",
    "\n",
    "print(\"The length of the training set is: {} \".format(len(X_train)))\n",
    "print(\"The length of the test set is: {} \".format(len(X_test)))"
   ]
  },
  {
   "cell_type": "code",
   "execution_count": 11,
   "id": "11d2ab98-df73-464a-ab3a-104f4a4df535",
   "metadata": {},
   "outputs": [
    {
     "name": "stdout",
     "output_type": "stream",
     "text": [
      "Logistic Regression Accuracy: 80.050% \n",
      "Random Forest Classifier Accuracy: 86.450%\n",
      "\n",
      " \n",
      "Logistic Regression Precision: 45.161% \n",
      "Random Forest Classifier Precision: 75.847%\n",
      "\n",
      " \n"
     ]
    },
    {
     "data": {
      "text/plain": [
       "<AxesSubplot:title={'center':'Random Forest Classifier'}>"
      ]
     },
     "execution_count": 11,
     "metadata": {},
     "output_type": "execute_result"
    },
    {
     "data": {
      "image/png": "[encoded data removed]",
      "text/plain": [
       "<Figure size 720x720 with 2 Axes>"
      ]
     },
     "metadata": {
      "needs_background": "light"
     },
     "output_type": "display_data"
    }
   ],
   "source": [
    "#defining the models which will be fitted to the data.\n",
    "logistic_regressor = LogisticRegression()\n",
    "random_forest = RandomForestClassifier()\n",
    "\n",
    "\n",
    "logistic_regressor.fit(X_train, y_train)\n",
    "random_forest.fit(X_train, y_train)\n",
    "print(\"Logistic Regression Accuracy: {:.3f}% \".format(logistic_regressor.score(X_test, y_test)*100))\n",
    "print(\"Random Forest Classifier Accuracy: {:.3f}%\\n\\n \".format(random_forest.score(X_test, y_test)*100))\n",
    "\n",
    "print(\"Logistic Regression Precision: {:.3f}% \".format(precision_score(y_test, logistic_regressor.predict(X_test))*100))\n",
    "print(\"Random Forest Classifier Precision: {:.3f}%\\n\\n \".format(precision_score(y_test , random_forest.predict(X_test))*100))\n",
    "\n",
    "#Plotting the Confusion Matrix\n",
    "plt.figure(figsize=(10, 10))\n",
    "plt.subplots_adjust(left = 1 , bottom = 1 , right = 2.3 , top = 2 , wspace = 0.9 , hspace = None)\n",
    "small_font = {'family':'serif' , 'size':12}\n",
    "plt.subplot(1,2,1)\n",
    "plt.title('Logistic Regressor' , fontdict = small_font)\n",
    "sns.heatmap(data = metrics.confusion_matrix(y_test , logistic_regressor.predict(X_test)) , annot = True , fmt = '.0f' , cmap = 'viridis'\n",
    "            , cbar = False , square = True)\n",
    "\n",
    "plt.subplot(1,2,2)\n",
    "plt.title('Random Forest Classifier' , fontdict = small_font)\n",
    "sns.heatmap(data = confusion_matrix(y_test , random_forest.predict(X_test)) , annot = True , fmt = '.0f' , cmap = 'viridis'\n",
    "           , cbar = False , square = True)"
   ]
  },
  {
   "cell_type": "code",
   "execution_count": 12,
   "id": "07a8f675-c05e-4ab5-b9c7-06eb52e15d06",
   "metadata": {},
   "outputs": [
    {
     "data": {
      "image/png": "[encoded data removed]",
      "text/plain": [
       "<Figure size 576x576 with 1 Axes>"
      ]
     },
     "metadata": {
      "needs_background": "light"
     },
     "output_type": "display_data"
    }
   ],
   "source": [
    "features = X_test.columns\n",
    "importances = random_forest.feature_importances_\n",
    "indices = np.argsort(importances)\n",
    "\n",
    "plt.figure(figsize=(8, 8))\n",
    "plt.title('Feature Importances')\n",
    "plt.barh(range(len(indices)), importances[indices], color='b', align='center')\n",
    "plt.yticks(range(len(indices)), [features[i] for i in indices])\n",
    "plt.xlabel('Relative Importance')\n",
    "plt.show()"
   ]
  },
  {
   "cell_type": "markdown",
   "id": "e95606d0-db32-4fef-8cf0-0ad943f8ed5c",
   "metadata": {},
   "source": [
    "# Engineering features for better accuracy\n",
    "Since we have accuracies of 80% and 86.4%, these will serve as the baseline for all our other model, and we will try to improve upon this accuracy\n",
    "\n",
    "We will perform 3 main tasks:\n",
    "1. Change the balance out both classes (those who stayed and those who left)\n",
    "2. Make changes to the \"Balance\" column by interpolating values and possibly adding another column to it.\n",
    "3. Perform hyperparameter tuning on both models to improve their performances."
   ]
  },
  {
   "cell_type": "code",
   "execution_count": 13,
   "id": "7a7579a0-6fb4-446c-916b-009cc45f0a92",
   "metadata": {},
   "outputs": [
    {
     "data": {
      "text/html": [
       "<div>\n",
       "<style scoped>\n",
       "    .dataframe tbody tr th:only-of-type {\n",
       "        vertical-align: middle;\n",
       "    }\n",
       "\n",
       "    .dataframe tbody tr th {\n",
       "        vertical-align: top;\n",
       "    }\n",
       "\n",
       "    .dataframe thead th {\n",
       "        text-align: right;\n",
       "    }\n",
       "</style>\n",
       "<table border=\"1\" class=\"dataframe\">\n",
       "  <thead>\n",
       "    <tr style=\"text-align: right;\">\n",
       "      <th></th>\n",
       "      <th>RowNumber</th>\n",
       "      <th>CustomerId</th>\n",
       "      <th>Surname</th>\n",
       "      <th>CreditScore</th>\n",
       "      <th>Geography</th>\n",
       "      <th>Gender</th>\n",
       "      <th>Age</th>\n",
       "      <th>Tenure</th>\n",
       "      <th>Balance</th>\n",
       "      <th>NumOfProducts</th>\n",
       "      <th>HasCrCard</th>\n",
       "      <th>IsActiveMember</th>\n",
       "      <th>EstimatedSalary</th>\n",
       "      <th>Exited</th>\n",
       "    </tr>\n",
       "  </thead>\n",
       "  <tbody>\n",
       "    <tr>\n",
       "      <th>0</th>\n",
       "      <td>5256</td>\n",
       "      <td>15745533</td>\n",
       "      <td>Sargent</td>\n",
       "      <td>799</td>\n",
       "      <td>France</td>\n",
       "      <td>Female</td>\n",
       "      <td>63</td>\n",
       "      <td>1</td>\n",
       "      <td>110314.21</td>\n",
       "      <td>2</td>\n",
       "      <td>1</td>\n",
       "      <td>0</td>\n",
       "      <td>37464.00</td>\n",
       "      <td>1</td>\n",
       "    </tr>\n",
       "    <tr>\n",
       "      <th>1</th>\n",
       "      <td>1369</td>\n",
       "      <td>15745843</td>\n",
       "      <td>Kinlaw</td>\n",
       "      <td>689</td>\n",
       "      <td>Spain</td>\n",
       "      <td>Female</td>\n",
       "      <td>31</td>\n",
       "      <td>4</td>\n",
       "      <td>0.00</td>\n",
       "      <td>2</td>\n",
       "      <td>1</td>\n",
       "      <td>1</td>\n",
       "      <td>136610.02</td>\n",
       "      <td>0</td>\n",
       "    </tr>\n",
       "    <tr>\n",
       "      <th>2</th>\n",
       "      <td>896</td>\n",
       "      <td>15697000</td>\n",
       "      <td>Mello</td>\n",
       "      <td>728</td>\n",
       "      <td>Germany</td>\n",
       "      <td>Male</td>\n",
       "      <td>32</td>\n",
       "      <td>5</td>\n",
       "      <td>61825.50</td>\n",
       "      <td>1</td>\n",
       "      <td>1</td>\n",
       "      <td>1</td>\n",
       "      <td>156124.93</td>\n",
       "      <td>0</td>\n",
       "    </tr>\n",
       "    <tr>\n",
       "      <th>3</th>\n",
       "      <td>4769</td>\n",
       "      <td>15698528</td>\n",
       "      <td>Napolitani</td>\n",
       "      <td>599</td>\n",
       "      <td>Spain</td>\n",
       "      <td>Female</td>\n",
       "      <td>31</td>\n",
       "      <td>3</td>\n",
       "      <td>0.00</td>\n",
       "      <td>1</td>\n",
       "      <td>1</td>\n",
       "      <td>1</td>\n",
       "      <td>130086.47</td>\n",
       "      <td>1</td>\n",
       "    </tr>\n",
       "    <tr>\n",
       "      <th>4</th>\n",
       "      <td>4946</td>\n",
       "      <td>15646784</td>\n",
       "      <td>Cochran</td>\n",
       "      <td>529</td>\n",
       "      <td>France</td>\n",
       "      <td>Female</td>\n",
       "      <td>31</td>\n",
       "      <td>2</td>\n",
       "      <td>164003.05</td>\n",
       "      <td>2</td>\n",
       "      <td>1</td>\n",
       "      <td>1</td>\n",
       "      <td>60993.23</td>\n",
       "      <td>0</td>\n",
       "    </tr>\n",
       "  </tbody>\n",
       "</table>\n",
       "</div>"
      ],
      "text/plain": [
       "   RowNumber  CustomerId     Surname  CreditScore Geography  Gender  Age  \\\n",
       "0       5256    15745533     Sargent          799    France  Female   63   \n",
       "1       1369    15745843      Kinlaw          689     Spain  Female   31   \n",
       "2        896    15697000       Mello          728   Germany    Male   32   \n",
       "3       4769    15698528  Napolitani          599     Spain  Female   31   \n",
       "4       4946    15646784     Cochran          529    France  Female   31   \n",
       "\n",
       "   Tenure    Balance  NumOfProducts  HasCrCard  IsActiveMember  \\\n",
       "0       1  110314.21              2          1               0   \n",
       "1       4       0.00              2          1               1   \n",
       "2       5   61825.50              1          1               1   \n",
       "3       3       0.00              1          1               1   \n",
       "4       2  164003.05              2          1               1   \n",
       "\n",
       "   EstimatedSalary  Exited  \n",
       "0         37464.00       1  \n",
       "1        136610.02       0  \n",
       "2        156124.93       0  \n",
       "3        130086.47       1  \n",
       "4         60993.23       0  "
      ]
     },
     "execution_count": 13,
     "metadata": {},
     "output_type": "execute_result"
    }
   ],
   "source": [
    "#Balancing the dataset by sampling the number of people who left. We make sure we have an equal number of observations from both samples.\n",
    "emps_who_left = cm_df[cm_df[\"Exited\"]==1]\n",
    "no_emps_who_left= len(emps_who_left)\n",
    "\n",
    "emps_who_stayed = cm_df[cm_df[\"Exited\"]==0].sample(n=no_emps_who_left)\n",
    "\n",
    "balanced_df = pd.concat([emps_who_left, emps_who_stayed])\n",
    "\n",
    "#shuffling the dataset\n",
    "balanced_df = balanced_df.sample(frac=1).reset_index(drop=True)\n",
    "balanced_df.head()"
   ]
  },
  {
   "cell_type": "code",
   "execution_count": 14,
   "id": "61df5611-fd94-4360-8e69-150dce2cc5df",
   "metadata": {},
   "outputs": [
    {
     "data": {
      "image/png": "[encoded data removed]",
      "text/plain": [
       "<Figure size 576x576 with 1 Axes>"
      ]
     },
     "metadata": {
      "needs_background": "light"
     },
     "output_type": "display_data"
    }
   ],
   "source": [
    "#Visualising both classes\n",
    "plt.figure(figsize=(8, 8))\n",
    "ax = sns.countplot(x=\"Exited\", data=balanced_df)\n",
    "for p, label in zip(ax.patches, balanced_df[\"Exited\"].value_counts()):\n",
    "    ax.annotate(label, (p.get_x()+0.375, p.get_height()+0.15))"
   ]
  },
  {
   "cell_type": "code",
   "execution_count": 15,
   "id": "758b83a0-6213-4268-9216-0df409ccf0e4",
   "metadata": {},
   "outputs": [
    {
     "name": "stdout",
     "output_type": "stream",
     "text": [
      "Categorical Columns: \n",
      "['Geography', 'Gender']\n"
     ]
    },
    {
     "data": {
      "text/html": [
       "<div>\n",
       "<style scoped>\n",
       "    .dataframe tbody tr th:only-of-type {\n",
       "        vertical-align: middle;\n",
       "    }\n",
       "\n",
       "    .dataframe tbody tr th {\n",
       "        vertical-align: top;\n",
       "    }\n",
       "\n",
       "    .dataframe thead th {\n",
       "        text-align: right;\n",
       "    }\n",
       "</style>\n",
       "<table border=\"1\" class=\"dataframe\">\n",
       "  <thead>\n",
       "    <tr style=\"text-align: right;\">\n",
       "      <th></th>\n",
       "      <th>CreditScore</th>\n",
       "      <th>Age</th>\n",
       "      <th>Tenure</th>\n",
       "      <th>Balance</th>\n",
       "      <th>NumOfProducts</th>\n",
       "      <th>HasCrCard</th>\n",
       "      <th>IsActiveMember</th>\n",
       "      <th>EstimatedSalary</th>\n",
       "      <th>Geography_France</th>\n",
       "      <th>Geography_Germany</th>\n",
       "      <th>Geography_Spain</th>\n",
       "      <th>Gender_Female</th>\n",
       "      <th>Gender_Male</th>\n",
       "    </tr>\n",
       "  </thead>\n",
       "  <tbody>\n",
       "    <tr>\n",
       "      <th>0</th>\n",
       "      <td>799</td>\n",
       "      <td>63</td>\n",
       "      <td>1</td>\n",
       "      <td>110314.21</td>\n",
       "      <td>2</td>\n",
       "      <td>1</td>\n",
       "      <td>0</td>\n",
       "      <td>37464.00</td>\n",
       "      <td>1.0</td>\n",
       "      <td>0.0</td>\n",
       "      <td>0.0</td>\n",
       "      <td>1.0</td>\n",
       "      <td>0.0</td>\n",
       "    </tr>\n",
       "    <tr>\n",
       "      <th>1</th>\n",
       "      <td>689</td>\n",
       "      <td>31</td>\n",
       "      <td>4</td>\n",
       "      <td>0.00</td>\n",
       "      <td>2</td>\n",
       "      <td>1</td>\n",
       "      <td>1</td>\n",
       "      <td>136610.02</td>\n",
       "      <td>0.0</td>\n",
       "      <td>0.0</td>\n",
       "      <td>1.0</td>\n",
       "      <td>1.0</td>\n",
       "      <td>0.0</td>\n",
       "    </tr>\n",
       "    <tr>\n",
       "      <th>2</th>\n",
       "      <td>728</td>\n",
       "      <td>32</td>\n",
       "      <td>5</td>\n",
       "      <td>61825.50</td>\n",
       "      <td>1</td>\n",
       "      <td>1</td>\n",
       "      <td>1</td>\n",
       "      <td>156124.93</td>\n",
       "      <td>0.0</td>\n",
       "      <td>1.0</td>\n",
       "      <td>0.0</td>\n",
       "      <td>0.0</td>\n",
       "      <td>1.0</td>\n",
       "    </tr>\n",
       "    <tr>\n",
       "      <th>3</th>\n",
       "      <td>599</td>\n",
       "      <td>31</td>\n",
       "      <td>3</td>\n",
       "      <td>0.00</td>\n",
       "      <td>1</td>\n",
       "      <td>1</td>\n",
       "      <td>1</td>\n",
       "      <td>130086.47</td>\n",
       "      <td>0.0</td>\n",
       "      <td>0.0</td>\n",
       "      <td>1.0</td>\n",
       "      <td>1.0</td>\n",
       "      <td>0.0</td>\n",
       "    </tr>\n",
       "    <tr>\n",
       "      <th>4</th>\n",
       "      <td>529</td>\n",
       "      <td>31</td>\n",
       "      <td>2</td>\n",
       "      <td>164003.05</td>\n",
       "      <td>2</td>\n",
       "      <td>1</td>\n",
       "      <td>1</td>\n",
       "      <td>60993.23</td>\n",
       "      <td>1.0</td>\n",
       "      <td>0.0</td>\n",
       "      <td>0.0</td>\n",
       "      <td>1.0</td>\n",
       "      <td>0.0</td>\n",
       "    </tr>\n",
       "  </tbody>\n",
       "</table>\n",
       "</div>"
      ],
      "text/plain": [
       "   CreditScore  Age  Tenure    Balance  NumOfProducts  HasCrCard  \\\n",
       "0          799   63       1  110314.21              2          1   \n",
       "1          689   31       4       0.00              2          1   \n",
       "2          728   32       5   61825.50              1          1   \n",
       "3          599   31       3       0.00              1          1   \n",
       "4          529   31       2  164003.05              2          1   \n",
       "\n",
       "   IsActiveMember  EstimatedSalary  Geography_France  Geography_Germany  \\\n",
       "0               0         37464.00               1.0                0.0   \n",
       "1               1        136610.02               0.0                0.0   \n",
       "2               1        156124.93               0.0                1.0   \n",
       "3               1        130086.47               0.0                0.0   \n",
       "4               1         60993.23               1.0                0.0   \n",
       "\n",
       "   Geography_Spain  Gender_Female  Gender_Male  \n",
       "0              0.0            1.0          0.0  \n",
       "1              1.0            1.0          0.0  \n",
       "2              0.0            0.0          1.0  \n",
       "3              1.0            1.0          0.0  \n",
       "4              0.0            1.0          0.0  "
      ]
     },
     "execution_count": 15,
     "metadata": {},
     "output_type": "execute_result"
    }
   ],
   "source": [
    "# Defining our dependent and independent variables\n",
    "X = balanced_df.drop(columns = [\"RowNumber\", \"CustomerId\", \"Surname\", \"Exited\"])\n",
    "y = balanced_df[\"Exited\"]\n",
    "\n",
    "X = oneHot(X)\n",
    "\n",
    "X.head()"
   ]
  },
  {
   "cell_type": "code",
   "execution_count": 16,
   "id": "bf14552b-57bd-45f4-b219-76879bd7eace",
   "metadata": {},
   "outputs": [
    {
     "name": "stdout",
     "output_type": "stream",
     "text": [
      "The length of the training set is: 3259 \n",
      "The length of the test set is: 815 \n",
      "\n",
      "\n",
      "Logistic Regression Accuracy: 63.804% \n",
      "Random Forest Classifier Accuracy: 75.215% \n",
      "\n",
      " \n",
      "Logistic Regression Precision: 67.352% \n",
      "Random Forest Classifier Precision: 80.481%\n",
      "\n",
      " \n"
     ]
    },
    {
     "data": {
      "text/plain": [
       "<AxesSubplot:title={'center':'Random Forest Classifier'}>"
      ]
     },
     "execution_count": 16,
     "metadata": {},
     "output_type": "execute_result"
    },
    {
     "data": {
      "image/png": "[encoded data removed]",
      "text/plain": [
       "<Figure size 720x720 with 2 Axes>"
      ]
     },
     "metadata": {
      "needs_background": "light"
     },
     "output_type": "display_data"
    }
   ],
   "source": [
    "#Separating out training and testing data\n",
    "X_train, X_test, y_train, y_test = train_test_split(X, y, test_size=0.20, random_state=100)\n",
    "\n",
    "print(\"The length of the training set is: {} \".format(len(X_train)))\n",
    "print(\"The length of the test set is: {} \\n\\n\".format(len(X_test)))\n",
    "\n",
    "#defining the models which will be fitted to the data.\n",
    "logistic_regressor = LogisticRegression()\n",
    "random_forest = RandomForestClassifier()\n",
    "\n",
    "#defining and fitting the models\n",
    "logistic_regressor.fit(X_train, y_train)\n",
    "random_forest.fit(X_train, y_train)\n",
    "print(\"Logistic Regression Accuracy: {:.3f}% \".format(logistic_regressor.score(X_test, y_test)*100))\n",
    "print(\"Random Forest Classifier Accuracy: {:.3f}% \\n\\n \".format(random_forest.score(X_test, y_test)*100))\n",
    "\n",
    "print(\"Logistic Regression Precision: {:.3f}% \".format(precision_score(y_test, logistic_regressor.predict(X_test))*100))\n",
    "print(\"Random Forest Classifier Precision: {:.3f}%\\n\\n \".format(precision_score(y_test , random_forest.predict(X_test))*100))\n",
    "\n",
    "#Plotting the Confusion Matrix\n",
    "plt.figure(figsize=(10, 10))\n",
    "plt.subplots_adjust(left = 1 , bottom = 1 , right = 2.3 , top = 2 , wspace = 0.5 , hspace = None)\n",
    "small_font = {'family':'serif' , 'size':12}\n",
    "plt.subplot(1,2,1)\n",
    "plt.title('Logistic Regressor' , fontdict = small_font)\n",
    "sns.heatmap(data = metrics.confusion_matrix(y_test , logistic_regressor.predict(X_test)) , annot = True , fmt = '.0f' , cmap = 'viridis'\n",
    "            , cbar = False , square = True)\n",
    "\n",
    "plt.subplot(1,2,2)\n",
    "plt.title('Random Forest Classifier' , fontdict = small_font)\n",
    "sns.heatmap(data = confusion_matrix(y_test , random_forest.predict(X_test)) , annot = True , fmt = '.0f' , cmap = 'viridis'\n",
    "           , cbar = False , square = True)"
   ]
  },
  {
   "cell_type": "markdown",
   "id": "2e001321-8353-43f7-9868-733a25113015",
   "metadata": {},
   "source": [
    "#  Making changes to the \"Balance\" column"
   ]
  },
  {
   "cell_type": "code",
   "execution_count": 17,
   "id": "b2b9ca09-8f30-49da-8cdf-ae223bb8a1fc",
   "metadata": {},
   "outputs": [],
   "source": [
    "mean_balance = cm_df[cm_df[\"Balance\"] > 0][\"Balance\"].mean()\n",
    "\n",
    "def replaceval(y, mean_balance):\n",
    "    if y == 0:\n",
    "        y = mean_balance\n",
    "    return y\n"
   ]
  },
  {
   "cell_type": "code",
   "execution_count": 18,
   "id": "b8b08e7f-17a2-49bf-9c1c-1c7d40af37f2",
   "metadata": {},
   "outputs": [
    {
     "data": {
      "text/html": [
       "<div>\n",
       "<style scoped>\n",
       "    .dataframe tbody tr th:only-of-type {\n",
       "        vertical-align: middle;\n",
       "    }\n",
       "\n",
       "    .dataframe tbody tr th {\n",
       "        vertical-align: top;\n",
       "    }\n",
       "\n",
       "    .dataframe thead th {\n",
       "        text-align: right;\n",
       "    }\n",
       "</style>\n",
       "<table border=\"1\" class=\"dataframe\">\n",
       "  <thead>\n",
       "    <tr style=\"text-align: right;\">\n",
       "      <th></th>\n",
       "      <th>CreditScore</th>\n",
       "      <th>Age</th>\n",
       "      <th>Tenure</th>\n",
       "      <th>NumOfProducts</th>\n",
       "      <th>HasCrCard</th>\n",
       "      <th>IsActiveMember</th>\n",
       "      <th>EstimatedSalary</th>\n",
       "      <th>Geography_France</th>\n",
       "      <th>Geography_Germany</th>\n",
       "      <th>Geography_Spain</th>\n",
       "      <th>Gender_Female</th>\n",
       "      <th>Gender_Male</th>\n",
       "      <th>Balance</th>\n",
       "    </tr>\n",
       "  </thead>\n",
       "  <tbody>\n",
       "    <tr>\n",
       "      <th>0</th>\n",
       "      <td>799</td>\n",
       "      <td>63</td>\n",
       "      <td>1</td>\n",
       "      <td>2</td>\n",
       "      <td>1</td>\n",
       "      <td>0</td>\n",
       "      <td>37464.00</td>\n",
       "      <td>1.0</td>\n",
       "      <td>0.0</td>\n",
       "      <td>0.0</td>\n",
       "      <td>1.0</td>\n",
       "      <td>0.0</td>\n",
       "      <td>110314.210000</td>\n",
       "    </tr>\n",
       "    <tr>\n",
       "      <th>1</th>\n",
       "      <td>689</td>\n",
       "      <td>31</td>\n",
       "      <td>4</td>\n",
       "      <td>2</td>\n",
       "      <td>1</td>\n",
       "      <td>1</td>\n",
       "      <td>136610.02</td>\n",
       "      <td>0.0</td>\n",
       "      <td>0.0</td>\n",
       "      <td>1.0</td>\n",
       "      <td>1.0</td>\n",
       "      <td>0.0</td>\n",
       "      <td>119827.493793</td>\n",
       "    </tr>\n",
       "    <tr>\n",
       "      <th>2</th>\n",
       "      <td>728</td>\n",
       "      <td>32</td>\n",
       "      <td>5</td>\n",
       "      <td>1</td>\n",
       "      <td>1</td>\n",
       "      <td>1</td>\n",
       "      <td>156124.93</td>\n",
       "      <td>0.0</td>\n",
       "      <td>1.0</td>\n",
       "      <td>0.0</td>\n",
       "      <td>0.0</td>\n",
       "      <td>1.0</td>\n",
       "      <td>61825.500000</td>\n",
       "    </tr>\n",
       "    <tr>\n",
       "      <th>3</th>\n",
       "      <td>599</td>\n",
       "      <td>31</td>\n",
       "      <td>3</td>\n",
       "      <td>1</td>\n",
       "      <td>1</td>\n",
       "      <td>1</td>\n",
       "      <td>130086.47</td>\n",
       "      <td>0.0</td>\n",
       "      <td>0.0</td>\n",
       "      <td>1.0</td>\n",
       "      <td>1.0</td>\n",
       "      <td>0.0</td>\n",
       "      <td>119827.493793</td>\n",
       "    </tr>\n",
       "    <tr>\n",
       "      <th>4</th>\n",
       "      <td>529</td>\n",
       "      <td>31</td>\n",
       "      <td>2</td>\n",
       "      <td>2</td>\n",
       "      <td>1</td>\n",
       "      <td>1</td>\n",
       "      <td>60993.23</td>\n",
       "      <td>1.0</td>\n",
       "      <td>0.0</td>\n",
       "      <td>0.0</td>\n",
       "      <td>1.0</td>\n",
       "      <td>0.0</td>\n",
       "      <td>164003.050000</td>\n",
       "    </tr>\n",
       "  </tbody>\n",
       "</table>\n",
       "</div>"
      ],
      "text/plain": [
       "   CreditScore  Age  Tenure  NumOfProducts  HasCrCard  IsActiveMember  \\\n",
       "0          799   63       1              2          1               0   \n",
       "1          689   31       4              2          1               1   \n",
       "2          728   32       5              1          1               1   \n",
       "3          599   31       3              1          1               1   \n",
       "4          529   31       2              2          1               1   \n",
       "\n",
       "   EstimatedSalary  Geography_France  Geography_Germany  Geography_Spain  \\\n",
       "0         37464.00               1.0                0.0              0.0   \n",
       "1        136610.02               0.0                0.0              1.0   \n",
       "2        156124.93               0.0                1.0              0.0   \n",
       "3        130086.47               0.0                0.0              1.0   \n",
       "4         60993.23               1.0                0.0              0.0   \n",
       "\n",
       "   Gender_Female  Gender_Male        Balance  \n",
       "0            1.0          0.0  110314.210000  \n",
       "1            1.0          0.0  119827.493793  \n",
       "2            0.0          1.0   61825.500000  \n",
       "3            1.0          0.0  119827.493793  \n",
       "4            1.0          0.0  164003.050000  "
      ]
     },
     "execution_count": 18,
     "metadata": {},
     "output_type": "execute_result"
    }
   ],
   "source": [
    "# Defining our dependent and independent variables\n",
    "# X = cm_df.drop(columns = [\"RowNumber\", \"CustomerId\", \"Surname\", \"Stayed\"])\n",
    "# y = cm_df[\"Stayed\"]\n",
    "\n",
    "# X = oneHot(X)\n",
    "\n",
    "new_cols = X[\"Balance\"].map(lambda x: replaceval(x, mean_balance))\n",
    "\n",
    "X.drop(columns=\"Balance\", inplace=True)\n",
    "X[\"Balance\"] = new_cols\n",
    "X.head()"
   ]
  },
  {
   "cell_type": "code",
   "execution_count": 19,
   "id": "9692beee-05f6-4ce2-a6c1-89da0fad8ad2",
   "metadata": {},
   "outputs": [
    {
     "name": "stdout",
     "output_type": "stream",
     "text": [
      "The length of the training set is: 3259 \n",
      "\n",
      "The length of the test set is: 815 \n",
      "\n",
      "Logistic Regression Accuracy: 65.39877300613497% \n",
      "Random Forest Classifier Accuracy: 75.21472392638037% \n",
      "Logistic Regression Precision: 68.878% \n",
      "\n",
      "Random Forest Classifier Precision: 79.688%\n",
      "\n",
      " \n"
     ]
    },
    {
     "data": {
      "text/plain": [
       "<AxesSubplot:title={'center':'Random Forest Classifier'}>"
      ]
     },
     "execution_count": 19,
     "metadata": {},
     "output_type": "execute_result"
    },
    {
     "data": {
      "image/png": "[encoded data removed]",
      "text/plain": [
       "<Figure size 720x720 with 2 Axes>"
      ]
     },
     "metadata": {
      "needs_background": "light"
     },
     "output_type": "display_data"
    }
   ],
   "source": [
    "#Separating out training and testing data\n",
    "X_train, X_test, y_train, y_test = train_test_split(X, y, test_size=0.20, random_state=100)\n",
    "\n",
    "print(\"The length of the training set is: {} \\n\".format(len(X_train)))\n",
    "print(\"The length of the test set is: {} \\n\".format(len(X_test)))\n",
    "\n",
    "#defining the models which will be fitted to the data.\n",
    "logistic_regressor = LogisticRegression()\n",
    "random_forest = RandomForestClassifier()\n",
    "\n",
    "#defining and fitting the models\n",
    "logistic_regressor.fit(X_train, y_train)\n",
    "random_forest.fit(X_train, y_train)\n",
    "print(\"Logistic Regression Accuracy: {}% \".format(logistic_regressor.score(X_test, y_test)*100))\n",
    "print(\"Random Forest Classifier Accuracy: {}%\\n \".format(random_forest.score(X_test, y_test)*100))\n",
    "\n",
    "print(\"Logistic Regression Precision: {:.3f}% \\n\".format(precision_score(y_test, logistic_regressor.predict(X_test))*100))\n",
    "print(\"Random Forest Classifier Precision: {:.3f}%\\n\\n \".format(precision_score(y_test , random_forest.predict(X_test))*100))\n",
    "\n",
    "\n",
    "#Plotting the Confusion Matrix\n",
    "plt.figure(figsize=(10, 10))\n",
    "plt.subplots_adjust(left = 1 , bottom = 1 , right = 2.3 , top = 2 , wspace = 0.5 , hspace = None)\n",
    "small_font = {'family':'serif' , 'size':12}\n",
    "plt.subplot(1,2,1)\n",
    "plt.title('Logistic Regressor' , fontdict = small_font)\n",
    "sns.heatmap(data = metrics.confusion_matrix(y_test , logistic_regressor.predict(X_test)) , annot = True , fmt = '.0f' , cmap = 'viridis'\n",
    "            , cbar = False , square = True)\n",
    "\n",
    "plt.subplot(1,2,2)\n",
    "plt.title('Random Forest Classifier' , fontdict = small_font)\n",
    "sns.heatmap(data = confusion_matrix(y_test , random_forest.predict(X_test)) , annot = True , fmt = '.0f' , cmap = 'viridis'\n",
    "           , cbar = False , square = True)"
   ]
  },
  {
   "cell_type": "code",
   "execution_count": 20,
   "id": "c98c0a95-18f1-40ad-942c-a153eebc19f9",
   "metadata": {},
   "outputs": [
    {
     "data": {
      "image/png": "[encoded data removed]",
      "text/plain": [
       "<Figure size 576x576 with 1 Axes>"
      ]
     },
     "metadata": {
      "needs_background": "light"
     },
     "output_type": "display_data"
    }
   ],
   "source": [
    "features = X_test.columns\n",
    "importances = random_forest.feature_importances_\n",
    "indices = np.argsort(importances)\n",
    "\n",
    "plt.figure(figsize=(8, 8))\n",
    "plt.title('Feature Importances')\n",
    "plt.barh(range(len(indices)), importances[indices], color='b', align='center')\n",
    "plt.yticks(range(len(indices)), [features[i] for i in indices])\n",
    "plt.xlabel('Relative Importance')\n",
    "plt.show()"
   ]
  },
  {
   "cell_type": "markdown",
   "id": "5e6118eb-19d3-4f1b-9fd1-8522208f0fcb",
   "metadata": {},
   "source": [
    "# HyperParameter Tuning"
   ]
  },
  {
   "cell_type": "code",
   "execution_count": 21,
   "id": "d9ce16f0-d6ed-42a9-9804-3620adafe6c6",
   "metadata": {},
   "outputs": [
    {
     "name": "stdout",
     "output_type": "stream",
     "text": [
      "Fitting 3 folds for each of 500 candidates, totalling 1500 fits\n"
     ]
    }
   ],
   "source": [
    "#CCreating a dictionary \n",
    "from sklearn.model_selection import GridSearchCV\n",
    "forest = RandomForestClassifier()\n",
    "n_estimators = [100, 200, 300, 400, 500]\n",
    "max_depth = [5, 8, 15, 25, 30]\n",
    "min_samples_split = [2, 5, 10, 15, 100]\n",
    "min_samples_leaf = [1, 2, 5, 10] \n",
    "\n",
    "hyperF = dict(n_estimators = n_estimators, max_depth = max_depth,  \n",
    "              min_samples_split = min_samples_split, \n",
    "             min_samples_leaf = min_samples_leaf)\n",
    "\n",
    "gridF = GridSearchCV(forest, hyperF, scoring=\"precision\", cv = 3, verbose = 1, \n",
    "                      n_jobs = -1)\n",
    "bestF = gridF.fit(X_train, y_train)"
   ]
  },
  {
   "cell_type": "code",
   "execution_count": 22,
   "id": "64e85d48-d6f2-44de-9cee-de69ef750925",
   "metadata": {},
   "outputs": [
    {
     "name": "stdout",
     "output_type": "stream",
     "text": [
      "The highest precision was 79.896% and we achieved it with the following parameters: {'max_depth': 25, 'min_samples_leaf': 2, 'min_samples_split': 15, 'n_estimators': 300}\n"
     ]
    }
   ],
   "source": [
    "print(\"The highest precision was {:.3f}% and we achieved it with the following parameters: {}\".format(bestF.best_score_*100, bestF.best_params_))"
   ]
  },
  {
   "cell_type": "code",
   "execution_count": 23,
   "id": "a8766215-a925-404d-99af-aaf6190e3199",
   "metadata": {},
   "outputs": [
    {
     "name": "stdout",
     "output_type": "stream",
     "text": [
      "Random Forest Classifier Accuracy: 75.828% \n",
      "\n",
      "Random Forest Classifier Precision: 80.418%\n",
      "\n",
      " \n"
     ]
    },
    {
     "data": {
      "text/plain": [
       "Text(0.5, 1.0, 'Random Forest Classifier')"
      ]
     },
     "execution_count": 23,
     "metadata": {},
     "output_type": "execute_result"
    },
    {
     "data": {
      "image/png": "[encoded data removed]",
      "text/plain": [
       "<Figure size 720x720 with 1 Axes>"
      ]
     },
     "metadata": {
      "needs_background": "light"
     },
     "output_type": "display_data"
    }
   ],
   "source": [
    "random_forest = RandomForestClassifier(n_estimators=200,max_depth=30, min_samples_leaf=2, min_samples_split=15)\n",
    "\n",
    "#defining and fitting the models\n",
    "random_forest.fit(X_train, y_train)\n",
    "print(\"Random Forest Classifier Accuracy: {:.3f}% \\n\".format(random_forest.score(X_test, y_test)*100))\n",
    "\n",
    "print(\"Random Forest Classifier Precision: {:.3f}%\\n\\n \".format(precision_score(y_test , random_forest.predict(X_test))*100))\n",
    "\n",
    "\n",
    "#Plotting the Confusion Matrix\n",
    "plt.figure(figsize=(10, 10))\n",
    "small_font = {'family':'serif' , 'size':16}\n",
    "sns.heatmap(data = confusion_matrix(y_test , random_forest.predict(X_test)) , annot = True , fmt = '.0f' , cmap = 'viridis'\n",
    "           , cbar = False , square = True)\n",
    "plt.title('Random Forest Classifier' , fontdict = small_font)\n"
   ]
  },
  {
   "cell_type": "code",
   "execution_count": 24,
   "id": "99dac1da-13af-4b11-a2fb-69d26d93b767",
   "metadata": {},
   "outputs": [
    {
     "name": "stdout",
     "output_type": "stream",
     "text": [
      "Categorical Columns: \n",
      "['Geography', 'Gender']\n",
      "Fitting 3 folds for each of 500 candidates, totalling 1500 fits\n",
      "The highest accuracy was 89.037% and we achieved it with the following parameters: {'max_depth': 5, 'min_samples_leaf': 2, 'min_samples_split': 10, 'n_estimators': 200}\n"
     ]
    }
   ],
   "source": [
    "X = cm_df.drop(columns = [\"RowNumber\", \"CustomerId\", \"Surname\", \"Exited\"])\n",
    "y = cm_df[\"Exited\"]\n",
    "\n",
    "X = oneHot(X)\n",
    "\n",
    "#Separating out training and testing data\n",
    "X_train, X_test, y_train, y_test = train_test_split(X, y, test_size=0.20, random_state=42)\n",
    "\n",
    "\n",
    "\n",
    "new_forest = RandomForestClassifier()\n",
    "n_estimators = [100, 200, 300, 400, 500]\n",
    "max_depth = [5, 8, 15, 25, 30]\n",
    "min_samples_split = [2, 5, 10, 15, 100]\n",
    "min_samples_leaf = [1, 2, 5, 10] \n",
    "\n",
    "hyperF = dict(n_estimators = n_estimators, max_depth = max_depth,  \n",
    "              min_samples_split = min_samples_split, \n",
    "             min_samples_leaf = min_samples_leaf)\n",
    "\n",
    "gridF = GridSearchCV(new_forest, hyperF, scoring= \"precision\", cv = 3, verbose = 1, \n",
    "                      n_jobs = -1)\n",
    "bestF = gridF.fit(X_train, y_train)\n",
    "\n",
    "print(\"The highest accuracy was {:.3f}% and we achieved it with the following parameters: {}\".format(bestF.best_score_*100, bestF.best_params_))"
   ]
  },
  {
   "cell_type": "code",
   "execution_count": 25,
   "id": "baf4067e-e544-4277-b99b-84042a4d2717",
   "metadata": {},
   "outputs": [
    {
     "name": "stdout",
     "output_type": "stream",
     "text": [
      "Random Forest Classifier Accuracy: 84.6% \n",
      "Random Forest Classifier Precision: 84.553%\n",
      "\n",
      " \n"
     ]
    },
    {
     "data": {
      "text/plain": [
       "Text(0.5, 1.0, 'Random Forest Classifier')"
      ]
     },
     "execution_count": 25,
     "metadata": {},
     "output_type": "execute_result"
    },
    {
     "data": {
      "image/png": "[encoded data removed]",
      "text/plain": [
       "<Figure size 720x720 with 1 Axes>"
      ]
     },
     "metadata": {
      "needs_background": "light"
     },
     "output_type": "display_data"
    }
   ],
   "source": [
    "random_forest = RandomForestClassifier(n_estimators=200,max_depth=5, min_samples_leaf=5, min_samples_split=10)\n",
    "\n",
    "#defining and fitting the models\n",
    "random_forest.fit(X_train, y_train)\n",
    "print(\"Random Forest Classifier Accuracy: {}% \".format(random_forest.score(X_test, y_test)*100))\n",
    "\n",
    "\n",
    "print(\"Random Forest Classifier Precision: {:.3f}%\\n\\n \".format(precision_score(y_test , random_forest.predict(X_test))*100))\n",
    "\n",
    "\n",
    "#Plotting the Confusion Matrix\n",
    "plt.figure(figsize=(10, 10))\n",
    "small_font = {'family':'serif' , 'size':16}\n",
    "sns.heatmap(data = confusion_matrix(y_test , random_forest.predict(X_test)) , annot = True , fmt = '.0f' , cmap = 'viridis'\n",
    "           , cbar = False , square = True)\n",
    "plt.title('Random Forest Classifier' , fontdict = small_font)"
   ]
  },
  {
   "cell_type": "code",
   "execution_count": 26,
   "id": "79431dcd-aabd-4271-99bd-01647240e7ac",
   "metadata": {},
   "outputs": [
    {
     "data": {
      "image/png": "[encoded data removed]",
      "text/plain": [
       "<Figure size 432x288 with 1 Axes>"
      ]
     },
     "metadata": {
      "needs_background": "light"
     },
     "output_type": "display_data"
    }
   ],
   "source": [
    "features = X_test.columns\n",
    "importances = random_forest.feature_importances_\n",
    "indices = np.argsort(importances)\n",
    "\n",
    "plt.title('Feature Importances')\n",
    "plt.barh(range(len(indices)), importances[indices], color='b', align='center')\n",
    "plt.yticks(range(len(indices)), [features[i] for i in indices])\n",
    "plt.xlabel('Relative Importance')\n",
    "plt.show()"
   ]
  },
  {
   "cell_type": "markdown",
   "id": "949c7c91-f4e0-4b28-b1fb-56fcab5adf2b",
   "metadata": {},
   "source": [
    "# Conclusion\n",
    "Hyper parameter tunning had minimal impact on the accuracy of our model.  The best accuracy was achieved using the original data, after encoding and removal of features that had minimmal impact on the accuracy of our model.  We determined that the Random Forest classifier model was the better of the two models.  It  yielded the highest accuracy (86.45%) as it responded better to changes made during our data engineering process. "
   ]
  }
 ],
 "metadata": {
  "kernelspec": {
   "display_name": "Python 3 (ipykernel)",
   "language": "python",
   "name": "python3"
  },
  "language_info": {
   "codemirror_mode": {
    "name": "ipython",
    "version": 3
   },
   "file_extension": ".py",
   "mimetype": "text/x-python",
   "name": "python",
   "nbconvert_exporter": "python",
   "pygments_lexer": "ipython3",
   "version": "3.8.5"
  }
 },
 "nbformat": 4,
 "nbformat_minor": 5
}
